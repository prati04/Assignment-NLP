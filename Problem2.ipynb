{
 "cells": [
  {
   "cell_type": "code",
   "execution_count": null,
   "metadata": {},
   "outputs": [],
   "source": [
    "import numpy as np\n",
    "from IPython.display import Image\n",
    "Image(filename='./Prob2.png')"
   ]
  },
  {
   "cell_type": "code",
   "execution_count": 14,
   "metadata": {},
   "outputs": [],
   "source": [
    "#function to find max sum using dp\n",
    "# n*n matrix\n",
    "def_tri=[[3,0,0,0,0],[7,4,0,0,0],[2,4,6,0,0],[8,5,9,3,0],[10,16,18,12,5]]\n",
    "def maxSum(tri_def,n=5):\n",
    "    #botton up calculation\n",
    "    for i in range(n-1,-1,-1):\n",
    "        for j in range(i):\n",
    "            # for each element, check element\n",
    "            #just below the number and right\n",
    "            # add the maximum of them\n",
    "            if(tri[i][j]>tri[i][j+1]):\n",
    "                tri[i-1][j]+=tri[i][j]\n",
    "            else:\n",
    "                tri[i-1][j]+=tri[i][j+1]\n",
    "    #return the top element\n",
    "    return tri[0][0]"
   ]
  },
  {
   "cell_type": "code",
   "execution_count": 19,
   "metadata": {},
   "outputs": [
    {
     "name": "stdout",
     "output_type": "stream",
     "text": [
      "Enter n 5\n",
      "Enter element for row 1\n",
      "Enter elemnt3\n",
      "Enter element for row 2\n",
      "Enter elemnt7\n",
      "Enter elemnt4\n",
      "Enter element for row 3\n",
      "Enter elemnt2\n",
      "Enter elemnt4\n",
      "Enter elemnt6\n",
      "Enter element for row 4\n",
      "Enter elemnt8\n",
      "Enter elemnt5\n",
      "Enter elemnt9\n",
      "Enter elemnt3\n",
      "Enter element for row 5\n",
      "Enter elemnt10\n",
      "Enter elemnt16\n",
      "Enter elemnt18\n",
      "Enter elemnt12\n",
      "Enter elemnt5\n",
      "Enter Triangle is:\n",
      "[[3, 0, 0, 0, 0], [7, 4, 0, 0, 0], [2, 4, 6, 0, 0], [8, 5, 9, 3, 0], [10, 16, 18, 12, 5]]\n",
      "Max Sum is 41\n"
     ]
    }
   ],
   "source": [
    "import numpy as np\n",
    "tri=[]\n",
    "\"\"\" Input tri\n",
    "1\n",
    "2 3\n",
    "4 5 6 \"\"\"\n",
    "n=int(input(\"Enter n \"))\n",
    "for i in range(n-1,-1,-1):\n",
    "    row=[]\n",
    "    print(\"Enter element for row {}\".format(n-i))\n",
    "    for j in range(n-i):\n",
    "        x=int(input(\"Enter elemnt\"))\n",
    "        row.append(x)\n",
    "    tmp=np.zeros(i,dtype=int)\n",
    "    row.extend(tmp)\n",
    "    tri.append(row)\n",
    "print(\"Enter Triangle is:\")    \n",
    "print(tri)\n",
    "print(\"Max Sum is {}\".format(maxSum(tri,n)))"
   ]
  },
  {
   "cell_type": "code",
   "execution_count": null,
   "metadata": {},
   "outputs": [],
   "source": []
  }
 ],
 "metadata": {
  "kernelspec": {
   "display_name": "Python 3",
   "language": "python",
   "name": "python3"
  },
  "language_info": {
   "codemirror_mode": {
    "name": "ipython",
    "version": 3
   },
   "file_extension": ".py",
   "mimetype": "text/x-python",
   "name": "python",
   "nbconvert_exporter": "python",
   "pygments_lexer": "ipython3",
   "version": "3.7.1"
  }
 },
 "nbformat": 4,
 "nbformat_minor": 2
}
